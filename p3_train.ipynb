{
 "cells": [
  {
   "cell_type": "code",
   "execution_count": 1,
   "metadata": {},
   "outputs": [],
   "source": [
    "import torch\n",
    "import torch.nn as nn\n",
    "import torch.optim as optim\n",
    "import torchvision.transforms as transforms\n",
    "from torch.utils.data import Dataset, DataLoader\n",
    "import glob\n",
    "import os\n",
    "import numpy as np\n",
    "from PIL import Image\n",
    "from torchsummary import summary\n",
    "import pandas as pd"
   ]
  },
  {
   "cell_type": "code",
   "execution_count": 2,
   "metadata": {},
   "outputs": [],
   "source": [
    "class DATA(Dataset):\n",
    "    def __init__(self, img_path, label=True,transform=transforms.Compose([\n",
    "        transforms.ToTensor(),\n",
    "        transforms.Normalize((0.5, 0.5, 0.5), (0.5, 0.5, 0.5)),\n",
    "        ])) :\n",
    "        self.img_path = img_path\n",
    "        self.transform = transform\n",
    "        self.label = label\n",
    "        state = os.path.basename(img_path)\n",
    "\n",
    "        self.labels = pd.read_csv(os.path.join(os.path.dirname(img_path),'{}.csv'.format(state)),index_col='image_name')\n",
    "        \n",
    "        self.filepaths = []\n",
    "        fns = glob.glob(os.path.join(img_path+'/*.png'))\n",
    "        for i in fns:\n",
    "            self.filepaths.append(i)\n",
    "        self.len = len(self.filepaths)\n",
    "    \n",
    "    def __getitem__(self, index) :\n",
    "        fn = self.filepaths[index]\n",
    "        img = Image.open(fn).convert('RGB')\n",
    "        if self.transform is not None:\n",
    "            img = self.transform(img)\n",
    "        \n",
    "        if self.label:\n",
    "            return img,self.labels['label'][os.path.basename(fn)]\n",
    "        else:\n",
    "            return img,-1\n",
    "    \n",
    "    def __len__(self):\n",
    "        return self.len"
   ]
  },
  {
   "cell_type": "code",
   "execution_count": 3,
   "metadata": {},
   "outputs": [],
   "source": [
    "# Load Dataset\n",
    "# Data : img, label\n",
    "mnistm_train = DATA(img_path = 'hw2_data/digits/mnistm/train')\n",
    "mnistm_train_without_label = DATA(img_path = 'hw2_data/digits/mnistm/train', label=False)\n",
    "mnistm_test = DATA(img_path = 'hw2_data/digits/mnistm/test')\n",
    "\n",
    "svhn_train = DATA(img_path = 'hw2_data/digits/svhn/train')\n",
    "svhn_train_without_label = DATA(img_path = 'hw2_data/digits/svhn/train', label=False)\n",
    "svhn_test = DATA(img_path = 'hw2_data/digits/svhn/test')\n",
    "\n",
    "usps_train = DATA(img_path = 'hw2_data/digits/usps/train')\n",
    "usps_train_without_label = DATA(img_path = 'hw2_data/digits/svhn/train', label=False)\n",
    "usps_test = DATA(img_path = 'hw2_data/digits/usps/test')\n"
   ]
  },
  {
   "cell_type": "code",
   "execution_count": 4,
   "metadata": {},
   "outputs": [
    {
     "data": {
      "text/plain": [
       "numpy.int64"
      ]
     },
     "execution_count": 4,
     "metadata": {},
     "output_type": "execute_result"
    }
   ],
   "source": [
    "type(mnistm_train[0][1])"
   ]
  },
  {
   "cell_type": "code",
   "execution_count": 5,
   "metadata": {},
   "outputs": [],
   "source": [
    "batch_size = 128\n",
    "num_epochs = 100\n",
    "lr = 0.0002 \n",
    "nc = 3\n",
    "ndf = 28\n",
    "ncls = 10\n",
    "beta1 = 0.5"
   ]
  },
  {
   "cell_type": "code",
   "execution_count": 6,
   "metadata": {},
   "outputs": [],
   "source": [
    "device = torch.device(\"cuda\" if torch.cuda.is_available() else \"cpu\")"
   ]
  },
  {
   "cell_type": "code",
   "execution_count": 7,
   "metadata": {},
   "outputs": [],
   "source": [
    "# reference from https://discuss.pytorch.org/t/solved-reverse-gradients-in-backward-pass/3589/4\n",
    "from torch.autograd import Function\n",
    "class GradReverse(Function):\n",
    "    @staticmethod\n",
    "    def forward(ctx, x):\n",
    "        return x.view_as(x)\n",
    "\n",
    "    @staticmethod\n",
    "    def backward(ctx, grad_output):\n",
    "        return grad_output.neg()\n",
    "\n",
    "def grad_reverse(x):\n",
    "    return GradReverse.apply(x)"
   ]
  },
  {
   "cell_type": "code",
   "execution_count": 15,
   "metadata": {},
   "outputs": [],
   "source": [
    "class DANN(nn.Module):\n",
    "    def __init__(self):\n",
    "        super(DANN, self).__init__()\n",
    "        self.main = nn.Sequential(\n",
    "            # input is (nc) x 28 x 28\n",
    "            nn.Conv2d(nc, ndf, 4, 2, 1, bias=False),\n",
    "            nn.LeakyReLU(0.2, inplace=True),\n",
    "            # state size. (ndf) x 14 x 14\n",
    "            nn.Conv2d(ndf, ndf * 2, 4, 2, 1, bias=False),\n",
    "            nn.BatchNorm2d(ndf * 2),\n",
    "            nn.LeakyReLU(0.2, inplace=True),\n",
    "            # state size. (ndf*2) x 7 x 7\n",
    "            nn.Conv2d(ndf * 2, ndf * 4, 3, 2, 1, bias=False),\n",
    "            nn.BatchNorm2d(ndf * 4),\n",
    "            nn.LeakyReLU(0.2, inplace=True),\n",
    "            # state size. (ndf*4) x 4 x 4\n",
    "            nn.Conv2d(ndf * 4, ndf * 8, 4, 2, 1, bias=False),\n",
    "            nn.BatchNorm2d(ndf * 8),\n",
    "            nn.LeakyReLU(0.2, inplace=True),\n",
    "            # state size. (ndf*8) x 2 x 2\n",
    "        )\n",
    "        self.realfake = nn.Sequential(\n",
    "            nn.Conv2d(ndf * 8, 1, 2, 1, 0, bias=False),\n",
    "            nn.Sigmoid()\n",
    "        )\n",
    "        self.cls = nn.Sequential(\n",
    "            nn.Conv2d(ndf * 8, ncls, 2, 1, 0, bias=False),\n",
    "            nn.Softmax()\n",
    "        )\n",
    "\n",
    "    def forward(self, input):\n",
    "        input = self.main(input)\n",
    "        rev_input = grad_reverse(input)\n",
    "        dt = self.realfake(rev_input)\n",
    "        cls = self.cls(input)\n",
    "        return dt ,cls"
   ]
  },
  {
   "cell_type": "code",
   "execution_count": 16,
   "metadata": {},
   "outputs": [],
   "source": [
    "def weights_init(m):\n",
    "    classname = m.__class__.__name__\n",
    "    if classname.find('Conv') != -1:\n",
    "        nn.init.normal_(m.weight.data, 0.0, 0.02)\n",
    "    elif classname.find('BatchNorm') != -1:\n",
    "        nn.init.normal_(m.weight.data, 1.0, 0.02)\n",
    "        nn.init.constant_(m.bias.data, 0)"
   ]
  },
  {
   "cell_type": "code",
   "execution_count": 17,
   "metadata": {},
   "outputs": [
    {
     "name": "stdout",
     "output_type": "stream",
     "text": [
      "DANN(\n",
      "  (main): Sequential(\n",
      "    (0): Conv2d(3, 28, kernel_size=(4, 4), stride=(2, 2), padding=(1, 1), bias=False)\n",
      "    (1): LeakyReLU(negative_slope=0.2, inplace=True)\n",
      "    (2): Conv2d(28, 56, kernel_size=(4, 4), stride=(2, 2), padding=(1, 1), bias=False)\n",
      "    (3): BatchNorm2d(56, eps=1e-05, momentum=0.1, affine=True, track_running_stats=True)\n",
      "    (4): LeakyReLU(negative_slope=0.2, inplace=True)\n",
      "    (5): Conv2d(56, 112, kernel_size=(3, 3), stride=(2, 2), padding=(1, 1), bias=False)\n",
      "    (6): BatchNorm2d(112, eps=1e-05, momentum=0.1, affine=True, track_running_stats=True)\n",
      "    (7): LeakyReLU(negative_slope=0.2, inplace=True)\n",
      "    (8): Conv2d(112, 224, kernel_size=(4, 4), stride=(2, 2), padding=(1, 1), bias=False)\n",
      "    (9): BatchNorm2d(224, eps=1e-05, momentum=0.1, affine=True, track_running_stats=True)\n",
      "    (10): LeakyReLU(negative_slope=0.2, inplace=True)\n",
      "  )\n",
      "  (realfake): Sequential(\n",
      "    (0): Conv2d(224, 1, kernel_size=(2, 2), stride=(1, 1), bias=False)\n",
      "    (1): Sigmoid()\n",
      "  )\n",
      "  (cls): Sequential(\n",
      "    (0): Conv2d(224, 10, kernel_size=(2, 2), stride=(1, 1), bias=False)\n",
      "    (1): Softmax(dim=None)\n",
      "  )\n",
      ")\n"
     ]
    }
   ],
   "source": [
    "netDANN = DANN().to(device)\n",
    "netDANN.apply(weights_init)\n",
    "print(netDANN)"
   ]
  },
  {
   "cell_type": "code",
   "execution_count": 18,
   "metadata": {},
   "outputs": [
    {
     "name": "stdout",
     "output_type": "stream",
     "text": [
      "----------------------------------------------------------------\n",
      "        Layer (type)               Output Shape         Param #\n",
      "================================================================\n",
      "            Conv2d-1           [-1, 28, 14, 14]           1,344\n",
      "         LeakyReLU-2           [-1, 28, 14, 14]               0\n",
      "            Conv2d-3             [-1, 56, 7, 7]          25,088\n",
      "       BatchNorm2d-4             [-1, 56, 7, 7]             112\n",
      "         LeakyReLU-5             [-1, 56, 7, 7]               0\n",
      "            Conv2d-6            [-1, 112, 4, 4]          56,448\n",
      "       BatchNorm2d-7            [-1, 112, 4, 4]             224\n",
      "         LeakyReLU-8            [-1, 112, 4, 4]               0\n",
      "            Conv2d-9            [-1, 224, 2, 2]         401,408\n",
      "      BatchNorm2d-10            [-1, 224, 2, 2]             448\n",
      "        LeakyReLU-11            [-1, 224, 2, 2]               0\n",
      "           Conv2d-12              [-1, 1, 1, 1]             896\n",
      "          Sigmoid-13              [-1, 1, 1, 1]               0\n",
      "           Conv2d-14             [-1, 10, 1, 1]           8,960\n",
      "          Softmax-15             [-1, 10, 1, 1]               0\n",
      "================================================================\n",
      "Total params: 494,928\n",
      "Trainable params: 494,928\n",
      "Non-trainable params: 0\n",
      "----------------------------------------------------------------\n",
      "Input size (MB): 0.01\n",
      "Forward/backward pass size (MB): 0.21\n",
      "Params size (MB): 1.89\n",
      "Estimated Total Size (MB): 2.11\n",
      "----------------------------------------------------------------\n"
     ]
    },
    {
     "name": "stderr",
     "output_type": "stream",
     "text": [
      "C:\\ProgramData\\Anaconda3\\lib\\site-packages\\torch\\nn\\modules\\container.py:139: UserWarning: Implicit dimension choice for softmax has been deprecated. Change the call to include dim=X as an argument.\n",
      "  input = module(input)\n"
     ]
    }
   ],
   "source": [
    "from torchsummary import summary\n",
    "summary(netDANN,(3,28,28))"
   ]
  },
  {
   "cell_type": "code",
   "execution_count": 19,
   "metadata": {},
   "outputs": [],
   "source": [
    "# 0:MNIST-M → USPS 72%\n",
    "# 1:SVHN → MNIST-M 42%\n",
    "# 2:USPS → SVHN 28%\n",
    "\n",
    "trainLoader = {\n",
    "    0:DataLoader(mnistm_train, batch_size=batch_size, shuffle=True) ,\n",
    "    1:DataLoader(svhn_train, batch_size=batch_size, shuffle=True) ,\n",
    "    2:DataLoader(usps_train, batch_size=batch_size, shuffle=True) ,\n",
    "}\n",
    "trainLoader_domain = {\n",
    "    0:DataLoader(mnistm_train, batch_size=batch_size, shuffle=True) ,\n",
    "    1:DataLoader(svhn_train, batch_size=batch_size, shuffle=True) ,\n",
    "    2:DataLoader(usps_train, batch_size=batch_size, shuffle=True) ,\n",
    "}\n",
    "trainLoader_target = {\n",
    "    0:DataLoader(usps_train_without_label, batch_size=batch_size, shuffle=True) ,\n",
    "    1:DataLoader(mnistm_train_without_label, batch_size=batch_size, shuffle=True) ,\n",
    "    2:DataLoader(svhn_train_without_label, batch_size=batch_size, shuffle=True) ,\n",
    "}\n",
    "testLoader = {\n",
    "    0:DataLoader(usps_test, batch_size=batch_size, shuffle=False) ,\n",
    "    1:DataLoader(mnistm_test, batch_size=batch_size, shuffle=False) ,\n",
    "    2:DataLoader(svhn_test, batch_size=batch_size, shuffle=False) ,\n",
    "}\n",
    "test_threshold = {\n",
    "    0:72,\n",
    "    1:42,\n",
    "    2:12\n",
    "    }\n",
    "mode_word = {\n",
    "    0:('mnistm','usps'),\n",
    "    1:('svhn','mnistm'),\n",
    "    2:('usps','svhn'),\n",
    "    \n",
    "}"
   ]
  },
  {
   "cell_type": "code",
   "execution_count": 20,
   "metadata": {},
   "outputs": [],
   "source": [
    "mode=-1"
   ]
  },
  {
   "cell_type": "code",
   "execution_count": 21,
   "metadata": {},
   "outputs": [],
   "source": [
    "def train_bound(model, epoch, mode, testmode):\n",
    "    mode = mode\n",
    "    criterion_cls = nn.CrossEntropyLoss()\n",
    "\n",
    "    optimizer = optim.Adam(netDANN.parameters(), lr=lr, betas=(beta1, 0.999))\n",
    "    loss = []\n",
    "    iters = 0\n",
    "    for ep in range(epoch):\n",
    "        for i, (data, label) in enumerate(trainLoader[mode]):\n",
    "            model.train()\n",
    "            model.zero_grad()\n",
    "            data, label = data.to(device), label.to(device)\n",
    "            # b_size = data.size(0)\n",
    "            output = netDANN(data)[1].view(-1, ncls)\n",
    "            \n",
    "            err = criterion_cls(output, label)\n",
    "            \n",
    "            err.backward()\n",
    "            loss.append(err)\n",
    "            optimizer.step()\n",
    "            \n",
    "            if(i%50==0):\n",
    "                print(\"{}/{} \\tloss:{} \".format(\n",
    "                    i, len(trainLoader[mode]), err  \n",
    "                ))\n",
    "\n",
    "            iters+=1\n",
    "        \n",
    "        test_bound(model, ep , testmode)\n",
    "\n",
    "\n",
    "    "
   ]
  },
  {
   "cell_type": "code",
   "execution_count": 22,
   "metadata": {},
   "outputs": [],
   "source": [
    "def test_bound(model, ep, mode):\n",
    "    \n",
    "    mode = mode\n",
    "    criterion_cls = nn.CrossEntropyLoss()\n",
    "    model.eval()\n",
    "    val_loss = 0\n",
    "    correct = 0\n",
    "    with torch.no_grad():\n",
    "        for data, target in testLoader[mode]:\n",
    "            data, target = data.to(device), target.to(device)\n",
    "            output = model(data)[1].view(-1,ncls)\n",
    "            val_loss += criterion_cls(output, target).item() # sum up batch loss\n",
    "            pred = output.max(1, keepdim=True)[1] # get the index of the max log-probability\n",
    "            correct += pred.eq(target.view_as(pred)).sum().item()\n",
    "\n",
    "    val_loss /= len(testLoader[mode])\n",
    "    len_dataset = len(testLoader[mode].dataset)\n",
    "    acc = 100. * correct / len_dataset\n",
    "    print('\\nAverage loss: {:.4f}, Accuracy: {}/{} ({:.0f}%)\\n'.format(\n",
    "        val_loss, correct, len_dataset, acc\n",
    "        ))"
   ]
  },
  {
   "cell_type": "code",
   "execution_count": 23,
   "metadata": {},
   "outputs": [],
   "source": [
    "def train(model, epoch,mode):\n",
    "    mode = mode\n",
    "    criterion_dt = nn.BCELoss()\n",
    "    criterion_cls = nn.CrossEntropyLoss()\n",
    "\n",
    "    domain_label = 1.\n",
    "    target_label = 0.\n",
    "\n",
    "    optimizer = optim.Adam(netDANN.parameters(), lr=lr, betas=(beta1, 0.999))\n",
    "    \n",
    "    loss_dt = []\n",
    "    loss_cls = []\n",
    "    loss = []\n",
    "    iters = 0\n",
    "    # train class and domain\n",
    "    for ep in range(epoch):\n",
    "        for i, (domain,target) in enumerate(zip(trainLoader_domain[mode],trainLoader_target[mode])):\n",
    "            model.train()\n",
    "            model.zero_grad()\n",
    "            data, label = domain\n",
    "            data, label = data.to(device), label.to(device)\n",
    "\n",
    "            b_size = data.size(0)\n",
    "            domain_dt = torch.full((b_size,), domain_label, dtype=torch.float,device=device)\n",
    "\n",
    "            output_dt = netDANN(data)[0].view(-1)\n",
    "            output_cls = netDANN(data)[1].view(-1,ncls)\n",
    "            err_domain_dt = criterion_dt(output_dt, domain_dt)\n",
    "            err_domain_cls = criterion_cls(output_cls, label)\n",
    "            err_domain = err_domain_cls + err_domain_dt\n",
    "            \n",
    "            if i % 50 == 0:\n",
    "                print('[%d/%d][%d/%d]\\tLoss_dt: %.4f\\tLoss_cls: %.4f\\tLoss: %.4f'\n",
    "                  % (ep, epoch, i, len(trainLoader_domain[mode]),\n",
    "                     err_domain_dt.item(), err_domain_cls.item(), err_domain.item()))\n",
    "\n",
    "            loss_dt.append(err_domain_dt)\n",
    "            loss_cls.append(err_domain_cls)\n",
    "            loss.append(err_domain) \n",
    "\n",
    "            data = target[0].to(device)\n",
    "\n",
    "            b_size = data.size(0)\n",
    "            target_dt = torch.full((b_size,), target_label, dtype=torch.float,device=device)\n",
    "\n",
    "            output_dt = netDANN(data)[0].view(-1)\n",
    "            \n",
    "            err_target_dt = criterion_dt(output_dt, target_dt)\n",
    "            err_target = err_target_dt\n",
    " \n",
    "            err = err_domain_cls + err_domain_dt + err_target_dt\n",
    "            err.backward()\n",
    "            optimizer.step()\n",
    "            \n",
    "            if i % 50 == 0:\n",
    "                print('[%d/%d][%d/%d]\\tLoss_dt: %.4f\\tLoss: %.4f'\n",
    "                  % (ep, epoch, i, len(trainLoader_target[mode]),\n",
    "                     err_target_dt.item(), err_target.item()))\n",
    "\n",
    "            loss_cls.append(err_target_dt)\n",
    "            loss.append(err_target)\n",
    "            iters += 1\n",
    "\n",
    "        test(model,ep,mode)\n",
    "\n",
    "\n"
   ]
  },
  {
   "cell_type": "code",
   "execution_count": 24,
   "metadata": {},
   "outputs": [],
   "source": [
    "def test(model,ep,mode):\n",
    "    mode = mode\n",
    "    criterion_cls = nn.CrossEntropyLoss()\n",
    "    model.eval()\n",
    "    val_loss = 0\n",
    "    correct = 0\n",
    "    with torch.no_grad():\n",
    "        for data, target in testLoader[mode]:\n",
    "            data, target = data.to(device), target.to(device)\n",
    "            output = model(data)[1].view(-1,ncls)\n",
    "            val_loss += criterion_cls(output, target).item() # sum up batch loss\n",
    "            pred = output.max(1, keepdim=True)[1] # get the index of the max log-probability\n",
    "            correct += pred.eq(target.view_as(pred)).sum().item()\n",
    "\n",
    "    val_loss /= len(testLoader[mode])\n",
    "    len_dataset = len(testLoader[mode].dataset)\n",
    "    acc = 100. * correct / len_dataset\n",
    "    print('\\nAverage loss: {:.4f}, Accuracy: {}/{} ({:.0f}%)\\n'.format(\n",
    "        val_loss, correct, len_dataset, acc\n",
    "        ))\n",
    "    \n",
    "    if(acc>test_threshold[mode]):\n",
    "        torch.save(model,'p3/{}_{}_{}_{:.0f}.pth'.format(mode_word[mode][0],mode_word[mode][1],ep,acc))"
   ]
  },
  {
   "cell_type": "code",
   "execution_count": 25,
   "metadata": {},
   "outputs": [],
   "source": [
    "# netDANN.apply(weights_init)\n",
    "# train(netDANN, 30,0)\n",
    "# netDANN.apply(weights_init)\n",
    "# train(netDANN, 30,1)\n",
    "# netDANN.apply(weights_init)\n",
    "# train(netDANN, 30,2)\n"
   ]
  },
  {
   "cell_type": "code",
   "execution_count": 26,
   "metadata": {},
   "outputs": [],
   "source": [
    "model = torch.load('usps.pth')\n",
    "\n",
    "model()\n"
   ]
  },
  {
   "cell_type": "code",
   "execution_count": null,
   "metadata": {},
   "outputs": [],
   "source": []
  }
 ],
 "metadata": {
  "interpreter": {
   "hash": "b3ba2566441a7c06988d0923437866b63cedc61552a5af99d1f4fb67d367b25f"
  },
  "kernelspec": {
   "display_name": "Python 3.8.8 64-bit ('base': conda)",
   "language": "python",
   "name": "python3"
  },
  "language_info": {
   "codemirror_mode": {
    "name": "ipython",
    "version": 3
   },
   "file_extension": ".py",
   "mimetype": "text/x-python",
   "name": "python",
   "nbconvert_exporter": "python",
   "pygments_lexer": "ipython3",
   "version": "3.8.8"
  },
  "orig_nbformat": 4
 },
 "nbformat": 4,
 "nbformat_minor": 2
}
